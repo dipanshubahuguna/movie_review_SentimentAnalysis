{
  "nbformat": 4,
  "nbformat_minor": 0,
  "metadata": {
    "colab": {
      "name": "Movie_review.ipynb",
      "provenance": []
    },
    "kernelspec": {
      "name": "python3",
      "display_name": "Python 3"
    },
    "language_info": {
      "name": "python"
    }
  },
  "cells": [
    {
      "cell_type": "markdown",
      "metadata": {
        "id": "kaNV8FDszQtf"
      },
      "source": [
        "Installing NLTK\n"
      ]
    },
    {
      "cell_type": "code",
      "metadata": {
        "colab": {
          "base_uri": "https://localhost:8080/"
        },
        "id": "Ip5u7Dc6fmFM",
        "outputId": "f431c6c6-bf3c-4523-86c5-48738dd49cb2"
      },
      "source": [
        "pip install nltk==3.3"
      ],
      "execution_count": 1,
      "outputs": [
        {
          "output_type": "stream",
          "name": "stdout",
          "text": [
            "Collecting nltk==3.3\n",
            "  Downloading nltk-3.3.0.zip (1.4 MB)\n",
            "\u001b[?25l\r\u001b[K     |▎                               | 10 kB 34.2 MB/s eta 0:00:01\r\u001b[K     |▌                               | 20 kB 43.0 MB/s eta 0:00:01\r\u001b[K     |▊                               | 30 kB 45.6 MB/s eta 0:00:01\r\u001b[K     |█                               | 40 kB 27.9 MB/s eta 0:00:01\r\u001b[K     |█▏                              | 51 kB 16.9 MB/s eta 0:00:01\r\u001b[K     |█▍                              | 61 kB 13.4 MB/s eta 0:00:01\r\u001b[K     |█▋                              | 71 kB 13.5 MB/s eta 0:00:01\r\u001b[K     |█▉                              | 81 kB 15.0 MB/s eta 0:00:01\r\u001b[K     |██▏                             | 92 kB 13.7 MB/s eta 0:00:01\r\u001b[K     |██▍                             | 102 kB 12.0 MB/s eta 0:00:01\r\u001b[K     |██▋                             | 112 kB 12.0 MB/s eta 0:00:01\r\u001b[K     |██▉                             | 122 kB 12.0 MB/s eta 0:00:01\r\u001b[K     |███                             | 133 kB 12.0 MB/s eta 0:00:01\r\u001b[K     |███▎                            | 143 kB 12.0 MB/s eta 0:00:01\r\u001b[K     |███▌                            | 153 kB 12.0 MB/s eta 0:00:01\r\u001b[K     |███▊                            | 163 kB 12.0 MB/s eta 0:00:01\r\u001b[K     |████                            | 174 kB 12.0 MB/s eta 0:00:01\r\u001b[K     |████▎                           | 184 kB 12.0 MB/s eta 0:00:01\r\u001b[K     |████▌                           | 194 kB 12.0 MB/s eta 0:00:01\r\u001b[K     |████▊                           | 204 kB 12.0 MB/s eta 0:00:01\r\u001b[K     |█████                           | 215 kB 12.0 MB/s eta 0:00:01\r\u001b[K     |█████▏                          | 225 kB 12.0 MB/s eta 0:00:01\r\u001b[K     |█████▍                          | 235 kB 12.0 MB/s eta 0:00:01\r\u001b[K     |█████▋                          | 245 kB 12.0 MB/s eta 0:00:01\r\u001b[K     |██████                          | 256 kB 12.0 MB/s eta 0:00:01\r\u001b[K     |██████▏                         | 266 kB 12.0 MB/s eta 0:00:01\r\u001b[K     |██████▍                         | 276 kB 12.0 MB/s eta 0:00:01\r\u001b[K     |██████▋                         | 286 kB 12.0 MB/s eta 0:00:01\r\u001b[K     |██████▉                         | 296 kB 12.0 MB/s eta 0:00:01\r\u001b[K     |███████                         | 307 kB 12.0 MB/s eta 0:00:01\r\u001b[K     |███████▎                        | 317 kB 12.0 MB/s eta 0:00:01\r\u001b[K     |███████▌                        | 327 kB 12.0 MB/s eta 0:00:01\r\u001b[K     |███████▊                        | 337 kB 12.0 MB/s eta 0:00:01\r\u001b[K     |████████                        | 348 kB 12.0 MB/s eta 0:00:01\r\u001b[K     |████████▎                       | 358 kB 12.0 MB/s eta 0:00:01\r\u001b[K     |████████▌                       | 368 kB 12.0 MB/s eta 0:00:01\r\u001b[K     |████████▊                       | 378 kB 12.0 MB/s eta 0:00:01\r\u001b[K     |█████████                       | 389 kB 12.0 MB/s eta 0:00:01\r\u001b[K     |█████████▏                      | 399 kB 12.0 MB/s eta 0:00:01\r\u001b[K     |█████████▍                      | 409 kB 12.0 MB/s eta 0:00:01\r\u001b[K     |█████████▋                      | 419 kB 12.0 MB/s eta 0:00:01\r\u001b[K     |██████████                      | 430 kB 12.0 MB/s eta 0:00:01\r\u001b[K     |██████████▏                     | 440 kB 12.0 MB/s eta 0:00:01\r\u001b[K     |██████████▍                     | 450 kB 12.0 MB/s eta 0:00:01\r\u001b[K     |██████████▋                     | 460 kB 12.0 MB/s eta 0:00:01\r\u001b[K     |██████████▉                     | 471 kB 12.0 MB/s eta 0:00:01\r\u001b[K     |███████████                     | 481 kB 12.0 MB/s eta 0:00:01\r\u001b[K     |███████████▎                    | 491 kB 12.0 MB/s eta 0:00:01\r\u001b[K     |███████████▌                    | 501 kB 12.0 MB/s eta 0:00:01\r\u001b[K     |███████████▉                    | 512 kB 12.0 MB/s eta 0:00:01\r\u001b[K     |████████████                    | 522 kB 12.0 MB/s eta 0:00:01\r\u001b[K     |████████████▎                   | 532 kB 12.0 MB/s eta 0:00:01\r\u001b[K     |████████████▌                   | 542 kB 12.0 MB/s eta 0:00:01\r\u001b[K     |████████████▊                   | 552 kB 12.0 MB/s eta 0:00:01\r\u001b[K     |█████████████                   | 563 kB 12.0 MB/s eta 0:00:01\r\u001b[K     |█████████████▏                  | 573 kB 12.0 MB/s eta 0:00:01\r\u001b[K     |█████████████▍                  | 583 kB 12.0 MB/s eta 0:00:01\r\u001b[K     |█████████████▊                  | 593 kB 12.0 MB/s eta 0:00:01\r\u001b[K     |██████████████                  | 604 kB 12.0 MB/s eta 0:00:01\r\u001b[K     |██████████████▏                 | 614 kB 12.0 MB/s eta 0:00:01\r\u001b[K     |██████████████▍                 | 624 kB 12.0 MB/s eta 0:00:01\r\u001b[K     |██████████████▋                 | 634 kB 12.0 MB/s eta 0:00:01\r\u001b[K     |██████████████▉                 | 645 kB 12.0 MB/s eta 0:00:01\r\u001b[K     |███████████████                 | 655 kB 12.0 MB/s eta 0:00:01\r\u001b[K     |███████████████▎                | 665 kB 12.0 MB/s eta 0:00:01\r\u001b[K     |███████████████▌                | 675 kB 12.0 MB/s eta 0:00:01\r\u001b[K     |███████████████▉                | 686 kB 12.0 MB/s eta 0:00:01\r\u001b[K     |████████████████                | 696 kB 12.0 MB/s eta 0:00:01\r\u001b[K     |████████████████▎               | 706 kB 12.0 MB/s eta 0:00:01\r\u001b[K     |████████████████▌               | 716 kB 12.0 MB/s eta 0:00:01\r\u001b[K     |████████████████▊               | 727 kB 12.0 MB/s eta 0:00:01\r\u001b[K     |█████████████████               | 737 kB 12.0 MB/s eta 0:00:01\r\u001b[K     |█████████████████▏              | 747 kB 12.0 MB/s eta 0:00:01\r\u001b[K     |█████████████████▍              | 757 kB 12.0 MB/s eta 0:00:01\r\u001b[K     |█████████████████▊              | 768 kB 12.0 MB/s eta 0:00:01\r\u001b[K     |██████████████████              | 778 kB 12.0 MB/s eta 0:00:01\r\u001b[K     |██████████████████▏             | 788 kB 12.0 MB/s eta 0:00:01\r\u001b[K     |██████████████████▍             | 798 kB 12.0 MB/s eta 0:00:01\r\u001b[K     |██████████████████▋             | 808 kB 12.0 MB/s eta 0:00:01\r\u001b[K     |██████████████████▉             | 819 kB 12.0 MB/s eta 0:00:01\r\u001b[K     |███████████████████             | 829 kB 12.0 MB/s eta 0:00:01\r\u001b[K     |███████████████████▎            | 839 kB 12.0 MB/s eta 0:00:01\r\u001b[K     |███████████████████▋            | 849 kB 12.0 MB/s eta 0:00:01\r\u001b[K     |███████████████████▉            | 860 kB 12.0 MB/s eta 0:00:01\r\u001b[K     |████████████████████            | 870 kB 12.0 MB/s eta 0:00:01\r\u001b[K     |████████████████████▎           | 880 kB 12.0 MB/s eta 0:00:01\r\u001b[K     |████████████████████▌           | 890 kB 12.0 MB/s eta 0:00:01\r\u001b[K     |████████████████████▊           | 901 kB 12.0 MB/s eta 0:00:01\r\u001b[K     |█████████████████████           | 911 kB 12.0 MB/s eta 0:00:01\r\u001b[K     |█████████████████████▏          | 921 kB 12.0 MB/s eta 0:00:01\r\u001b[K     |█████████████████████▌          | 931 kB 12.0 MB/s eta 0:00:01\r\u001b[K     |█████████████████████▊          | 942 kB 12.0 MB/s eta 0:00:01\r\u001b[K     |██████████████████████          | 952 kB 12.0 MB/s eta 0:00:01\r\u001b[K     |██████████████████████▏         | 962 kB 12.0 MB/s eta 0:00:01\r\u001b[K     |██████████████████████▍         | 972 kB 12.0 MB/s eta 0:00:01\r\u001b[K     |██████████████████████▋         | 983 kB 12.0 MB/s eta 0:00:01\r\u001b[K     |██████████████████████▉         | 993 kB 12.0 MB/s eta 0:00:01\r\u001b[K     |███████████████████████         | 1.0 MB 12.0 MB/s eta 0:00:01\r\u001b[K     |███████████████████████▎        | 1.0 MB 12.0 MB/s eta 0:00:01\r\u001b[K     |███████████████████████▋        | 1.0 MB 12.0 MB/s eta 0:00:01\r\u001b[K     |███████████████████████▉        | 1.0 MB 12.0 MB/s eta 0:00:01\r\u001b[K     |████████████████████████        | 1.0 MB 12.0 MB/s eta 0:00:01\r\u001b[K     |████████████████████████▎       | 1.1 MB 12.0 MB/s eta 0:00:01\r\u001b[K     |████████████████████████▌       | 1.1 MB 12.0 MB/s eta 0:00:01\r\u001b[K     |████████████████████████▊       | 1.1 MB 12.0 MB/s eta 0:00:01\r\u001b[K     |█████████████████████████       | 1.1 MB 12.0 MB/s eta 0:00:01\r\u001b[K     |█████████████████████████▏      | 1.1 MB 12.0 MB/s eta 0:00:01\r\u001b[K     |█████████████████████████▌      | 1.1 MB 12.0 MB/s eta 0:00:01\r\u001b[K     |█████████████████████████▊      | 1.1 MB 12.0 MB/s eta 0:00:01\r\u001b[K     |██████████████████████████      | 1.1 MB 12.0 MB/s eta 0:00:01\r\u001b[K     |██████████████████████████▏     | 1.1 MB 12.0 MB/s eta 0:00:01\r\u001b[K     |██████████████████████████▍     | 1.1 MB 12.0 MB/s eta 0:00:01\r\u001b[K     |██████████████████████████▋     | 1.2 MB 12.0 MB/s eta 0:00:01\r\u001b[K     |██████████████████████████▉     | 1.2 MB 12.0 MB/s eta 0:00:01\r\u001b[K     |███████████████████████████     | 1.2 MB 12.0 MB/s eta 0:00:01\r\u001b[K     |███████████████████████████▍    | 1.2 MB 12.0 MB/s eta 0:00:01\r\u001b[K     |███████████████████████████▋    | 1.2 MB 12.0 MB/s eta 0:00:01\r\u001b[K     |███████████████████████████▉    | 1.2 MB 12.0 MB/s eta 0:00:01\r\u001b[K     |████████████████████████████    | 1.2 MB 12.0 MB/s eta 0:00:01\r\u001b[K     |████████████████████████████▎   | 1.2 MB 12.0 MB/s eta 0:00:01\r\u001b[K     |████████████████████████████▌   | 1.2 MB 12.0 MB/s eta 0:00:01\r\u001b[K     |████████████████████████████▊   | 1.2 MB 12.0 MB/s eta 0:00:01\r\u001b[K     |█████████████████████████████   | 1.3 MB 12.0 MB/s eta 0:00:01\r\u001b[K     |█████████████████████████████▎  | 1.3 MB 12.0 MB/s eta 0:00:01\r\u001b[K     |█████████████████████████████▌  | 1.3 MB 12.0 MB/s eta 0:00:01\r\u001b[K     |█████████████████████████████▊  | 1.3 MB 12.0 MB/s eta 0:00:01\r\u001b[K     |██████████████████████████████  | 1.3 MB 12.0 MB/s eta 0:00:01\r\u001b[K     |██████████████████████████████▏ | 1.3 MB 12.0 MB/s eta 0:00:01\r\u001b[K     |██████████████████████████████▍ | 1.3 MB 12.0 MB/s eta 0:00:01\r\u001b[K     |██████████████████████████████▋ | 1.3 MB 12.0 MB/s eta 0:00:01\r\u001b[K     |██████████████████████████████▉ | 1.3 MB 12.0 MB/s eta 0:00:01\r\u001b[K     |███████████████████████████████ | 1.4 MB 12.0 MB/s eta 0:00:01\r\u001b[K     |███████████████████████████████▍| 1.4 MB 12.0 MB/s eta 0:00:01\r\u001b[K     |███████████████████████████████▋| 1.4 MB 12.0 MB/s eta 0:00:01\r\u001b[K     |███████████████████████████████▉| 1.4 MB 12.0 MB/s eta 0:00:01\r\u001b[K     |████████████████████████████████| 1.4 MB 12.0 MB/s \n",
            "\u001b[?25hRequirement already satisfied: six in /usr/local/lib/python3.7/dist-packages (from nltk==3.3) (1.15.0)\n",
            "Building wheels for collected packages: nltk\n",
            "  Building wheel for nltk (setup.py) ... \u001b[?25l\u001b[?25hdone\n",
            "  Created wheel for nltk: filename=nltk-3.3-py3-none-any.whl size=1394487 sha256=f62fdd72ecd0ed233fe2da3ce0cce41f3fb7714a81b78f80c8f75ddebf3fc510\n",
            "  Stored in directory: /root/.cache/pip/wheels/9b/fd/0c/d92302c876e5de87ebd7fc0979d82edb93e2d8d768bf71fac4\n",
            "Successfully built nltk\n",
            "Installing collected packages: nltk\n",
            "  Attempting uninstall: nltk\n",
            "    Found existing installation: nltk 3.2.5\n",
            "    Uninstalling nltk-3.2.5:\n",
            "      Successfully uninstalled nltk-3.2.5\n",
            "Successfully installed nltk-3.3\n"
          ]
        }
      ]
    },
    {
      "cell_type": "code",
      "metadata": {
        "id": "tTs19JDigP0r"
      },
      "source": [
        "import nltk"
      ],
      "execution_count": 2,
      "outputs": []
    },
    {
      "cell_type": "markdown",
      "metadata": {
        "id": "BhkuQOD9zX4e"
      },
      "source": [
        "Importing DATASET\n"
      ]
    },
    {
      "cell_type": "code",
      "metadata": {
        "colab": {
          "base_uri": "https://localhost:8080/"
        },
        "id": "J8ldb0QvgSwH",
        "outputId": "a25f5119-146c-4c10-bae3-10d015c9c9c3"
      },
      "source": [
        "from google.colab import drive\n",
        "drive.mount('/content/drive')"
      ],
      "execution_count": 3,
      "outputs": [
        {
          "output_type": "stream",
          "name": "stdout",
          "text": [
            "Mounted at /content/drive\n"
          ]
        }
      ]
    },
    {
      "cell_type": "code",
      "metadata": {
        "id": "xpgj-emTjSfl"
      },
      "source": [
        "import pandas as pd"
      ],
      "execution_count": 4,
      "outputs": []
    },
    {
      "cell_type": "code",
      "metadata": {
        "colab": {
          "base_uri": "https://localhost:8080/",
          "height": 206
        },
        "id": "9tRESERhjH32",
        "outputId": "39164447-c627-4539-e499-5e1416ca6022"
      },
      "source": [
        "\n",
        "path = \"/content/drive/MyDrive/IMDB Dataset.csv\"\n",
        "df_original = pd.read_csv(path,encoding='latin-1')\n",
        "df_original.head()"
      ],
      "execution_count": 5,
      "outputs": [
        {
          "output_type": "execute_result",
          "data": {
            "text/html": [
              "<div>\n",
              "<style scoped>\n",
              "    .dataframe tbody tr th:only-of-type {\n",
              "        vertical-align: middle;\n",
              "    }\n",
              "\n",
              "    .dataframe tbody tr th {\n",
              "        vertical-align: top;\n",
              "    }\n",
              "\n",
              "    .dataframe thead th {\n",
              "        text-align: right;\n",
              "    }\n",
              "</style>\n",
              "<table border=\"1\" class=\"dataframe\">\n",
              "  <thead>\n",
              "    <tr style=\"text-align: right;\">\n",
              "      <th></th>\n",
              "      <th>review</th>\n",
              "      <th>sentiment</th>\n",
              "    </tr>\n",
              "  </thead>\n",
              "  <tbody>\n",
              "    <tr>\n",
              "      <th>0</th>\n",
              "      <td>One of the other reviewers has mentioned that ...</td>\n",
              "      <td>positive</td>\n",
              "    </tr>\n",
              "    <tr>\n",
              "      <th>1</th>\n",
              "      <td>A wonderful little production. &lt;br /&gt;&lt;br /&gt;The...</td>\n",
              "      <td>positive</td>\n",
              "    </tr>\n",
              "    <tr>\n",
              "      <th>2</th>\n",
              "      <td>I thought this was a wonderful way to spend ti...</td>\n",
              "      <td>positive</td>\n",
              "    </tr>\n",
              "    <tr>\n",
              "      <th>3</th>\n",
              "      <td>Basically there's a family where a little boy ...</td>\n",
              "      <td>negative</td>\n",
              "    </tr>\n",
              "    <tr>\n",
              "      <th>4</th>\n",
              "      <td>Petter Mattei's \"Love in the Time of Money\" is...</td>\n",
              "      <td>positive</td>\n",
              "    </tr>\n",
              "  </tbody>\n",
              "</table>\n",
              "</div>"
            ],
            "text/plain": [
              "                                              review sentiment\n",
              "0  One of the other reviewers has mentioned that ...  positive\n",
              "1  A wonderful little production. <br /><br />The...  positive\n",
              "2  I thought this was a wonderful way to spend ti...  positive\n",
              "3  Basically there's a family where a little boy ...  negative\n",
              "4  Petter Mattei's \"Love in the Time of Money\" is...  positive"
            ]
          },
          "metadata": {},
          "execution_count": 5
        }
      ]
    },
    {
      "cell_type": "code",
      "source": [
        "df_original"
      ],
      "metadata": {
        "colab": {
          "base_uri": "https://localhost:8080/",
          "height": 423
        },
        "id": "BYg4uHZuhZf7",
        "outputId": "9e938cd3-174f-465e-e52c-810fc038d79c"
      },
      "execution_count": 24,
      "outputs": [
        {
          "output_type": "execute_result",
          "data": {
            "text/html": [
              "<div>\n",
              "<style scoped>\n",
              "    .dataframe tbody tr th:only-of-type {\n",
              "        vertical-align: middle;\n",
              "    }\n",
              "\n",
              "    .dataframe tbody tr th {\n",
              "        vertical-align: top;\n",
              "    }\n",
              "\n",
              "    .dataframe thead th {\n",
              "        text-align: right;\n",
              "    }\n",
              "</style>\n",
              "<table border=\"1\" class=\"dataframe\">\n",
              "  <thead>\n",
              "    <tr style=\"text-align: right;\">\n",
              "      <th></th>\n",
              "      <th>review</th>\n",
              "      <th>sentiment</th>\n",
              "    </tr>\n",
              "  </thead>\n",
              "  <tbody>\n",
              "    <tr>\n",
              "      <th>0</th>\n",
              "      <td>One of the other reviewers has mentioned that ...</td>\n",
              "      <td>positive</td>\n",
              "    </tr>\n",
              "    <tr>\n",
              "      <th>1</th>\n",
              "      <td>A wonderful little production. &lt;br /&gt;&lt;br /&gt;The...</td>\n",
              "      <td>positive</td>\n",
              "    </tr>\n",
              "    <tr>\n",
              "      <th>2</th>\n",
              "      <td>I thought this was a wonderful way to spend ti...</td>\n",
              "      <td>positive</td>\n",
              "    </tr>\n",
              "    <tr>\n",
              "      <th>3</th>\n",
              "      <td>Basically there's a family where a little boy ...</td>\n",
              "      <td>negative</td>\n",
              "    </tr>\n",
              "    <tr>\n",
              "      <th>4</th>\n",
              "      <td>Petter Mattei's \"Love in the Time of Money\" is...</td>\n",
              "      <td>positive</td>\n",
              "    </tr>\n",
              "    <tr>\n",
              "      <th>...</th>\n",
              "      <td>...</td>\n",
              "      <td>...</td>\n",
              "    </tr>\n",
              "    <tr>\n",
              "      <th>49995</th>\n",
              "      <td>I thought this movie did a down right good job...</td>\n",
              "      <td>positive</td>\n",
              "    </tr>\n",
              "    <tr>\n",
              "      <th>49996</th>\n",
              "      <td>Bad plot, bad dialogue, bad acting, idiotic di...</td>\n",
              "      <td>negative</td>\n",
              "    </tr>\n",
              "    <tr>\n",
              "      <th>49997</th>\n",
              "      <td>I am a Catholic taught in parochial elementary...</td>\n",
              "      <td>negative</td>\n",
              "    </tr>\n",
              "    <tr>\n",
              "      <th>49998</th>\n",
              "      <td>I'm going to have to disagree with the previou...</td>\n",
              "      <td>negative</td>\n",
              "    </tr>\n",
              "    <tr>\n",
              "      <th>49999</th>\n",
              "      <td>No one expects the Star Trek movies to be high...</td>\n",
              "      <td>negative</td>\n",
              "    </tr>\n",
              "  </tbody>\n",
              "</table>\n",
              "<p>50000 rows × 2 columns</p>\n",
              "</div>"
            ],
            "text/plain": [
              "                                                  review sentiment\n",
              "0      One of the other reviewers has mentioned that ...  positive\n",
              "1      A wonderful little production. <br /><br />The...  positive\n",
              "2      I thought this was a wonderful way to spend ti...  positive\n",
              "3      Basically there's a family where a little boy ...  negative\n",
              "4      Petter Mattei's \"Love in the Time of Money\" is...  positive\n",
              "...                                                  ...       ...\n",
              "49995  I thought this movie did a down right good job...  positive\n",
              "49996  Bad plot, bad dialogue, bad acting, idiotic di...  negative\n",
              "49997  I am a Catholic taught in parochial elementary...  negative\n",
              "49998  I'm going to have to disagree with the previou...  negative\n",
              "49999  No one expects the Star Trek movies to be high...  negative\n",
              "\n",
              "[50000 rows x 2 columns]"
            ]
          },
          "metadata": {},
          "execution_count": 24
        }
      ]
    },
    {
      "cell_type": "code",
      "metadata": {
        "colab": {
          "base_uri": "https://localhost:8080/"
        },
        "id": "p0pMsIR0jWrr",
        "outputId": "e1c60c95-504b-416a-88f6-f5fab3336d3f"
      },
      "source": [
        "df_original['sentiment'].value_counts()"
      ],
      "execution_count": 6,
      "outputs": [
        {
          "output_type": "execute_result",
          "data": {
            "text/plain": [
              "positive    25000\n",
              "negative    25000\n",
              "Name: sentiment, dtype: int64"
            ]
          },
          "metadata": {},
          "execution_count": 6
        }
      ]
    },
    {
      "cell_type": "markdown",
      "metadata": {
        "id": "KDtfnpiEzfe3"
      },
      "source": [
        "Spliting Dataset"
      ]
    },
    {
      "cell_type": "code",
      "metadata": {
        "id": "Rz2CagpSkKUL"
      },
      "source": [
        "negative = []\n",
        "positive = []\n",
        "for i in range(0,len(df_original)):\n",
        "  if(df_original['sentiment'][i] == 'negative'):\n",
        "    negative.append(df_original['review'][i])\n",
        "  elif(df_original['sentiment'][i] == 'positive'):\n",
        "    positive.append(df_original['review'][i])"
      ],
      "execution_count": 7,
      "outputs": []
    },
    {
      "cell_type": "code",
      "metadata": {
        "colab": {
          "base_uri": "https://localhost:8080/",
          "height": 35
        },
        "id": "8FS-EDxLk2pJ",
        "outputId": "82b03147-bbaa-4d78-f63d-523dd6091691"
      },
      "source": [
        "df_original['sentiment'][3]"
      ],
      "execution_count": 8,
      "outputs": [
        {
          "output_type": "execute_result",
          "data": {
            "application/vnd.google.colaboratory.intrinsic+json": {
              "type": "string"
            },
            "text/plain": [
              "'negative'"
            ]
          },
          "metadata": {},
          "execution_count": 8
        }
      ]
    },
    {
      "cell_type": "code",
      "metadata": {
        "colab": {
          "base_uri": "https://localhost:8080/"
        },
        "id": "-ftbAQo3koMZ",
        "outputId": "8e2e8359-8c8c-458b-b864-0f2b78ac884b"
      },
      "source": [
        "print(negative[0])\n",
        "print(positive[0])"
      ],
      "execution_count": 9,
      "outputs": [
        {
          "output_type": "stream",
          "name": "stdout",
          "text": [
            "Basically there's a family where a little boy (Jake) thinks there's a zombie in his closet & his parents are fighting all the time.<br /><br />This movie is slower than a soap opera... and suddenly, Jake decides to become Rambo and kill the zombie.<br /><br />OK, first of all when you're going to make a film you must Decide if its a thriller or a drama! As a drama the movie is watchable. Parents are divorcing & arguing like in real life. And then we have Jake with his closet which totally ruins all the film! I expected to see a BOOGEYMAN similar movie, and instead i watched a drama with some meaningless thriller spots.<br /><br />3 out of 10 just for the well playing parents & descent dialogs. As for the shots with Jake: just ignore them.\n",
            "One of the other reviewers has mentioned that after watching just 1 Oz episode you'll be hooked. They are right, as this is exactly what happened with me.<br /><br />The first thing that struck me about Oz was its brutality and unflinching scenes of violence, which set in right from the word GO. Trust me, this is not a show for the faint hearted or timid. This show pulls no punches with regards to drugs, sex or violence. Its is hardcore, in the classic use of the word.<br /><br />It is called OZ as that is the nickname given to the Oswald Maximum Security State Penitentary. It focuses mainly on Emerald City, an experimental section of the prison where all the cells have glass fronts and face inwards, so privacy is not high on the agenda. Em City is home to many..Aryans, Muslims, gangstas, Latinos, Christians, Italians, Irish and more....so scuffles, death stares, dodgy dealings and shady agreements are never far away.<br /><br />I would say the main appeal of the show is due to the fact that it goes where other shows wouldn't dare. Forget pretty pictures painted for mainstream audiences, forget charm, forget romance...OZ doesn't mess around. The first episode I ever saw struck me as so nasty it was surreal, I couldn't say I was ready for it, but as I watched more, I developed a taste for Oz, and got accustomed to the high levels of graphic violence. Not just violence, but injustice (crooked guards who'll be sold out for a nickel, inmates who'll kill on order and get away with it, well mannered, middle class inmates being turned into prison bitches due to their lack of street skills or prison experience) Watching Oz, you may become comfortable with what is uncomfortable viewing....thats if you can get in touch with your darker side.\n"
          ]
        }
      ]
    },
    {
      "cell_type": "markdown",
      "metadata": {
        "id": "kbw7ysshzmUs"
      },
      "source": [
        "Tokenizing Data"
      ]
    },
    {
      "cell_type": "code",
      "metadata": {
        "colab": {
          "base_uri": "https://localhost:8080/"
        },
        "id": "wAFw4GoRlV80",
        "outputId": "12a2e91f-ff11-4995-cc67-61986320fe1b"
      },
      "source": [
        "nltk.download('punkt')"
      ],
      "execution_count": 10,
      "outputs": [
        {
          "output_type": "stream",
          "name": "stdout",
          "text": [
            "[nltk_data] Downloading package punkt to /root/nltk_data...\n",
            "[nltk_data]   Unzipping tokenizers/punkt.zip.\n"
          ]
        },
        {
          "output_type": "execute_result",
          "data": {
            "text/plain": [
              "True"
            ]
          },
          "metadata": {},
          "execution_count": 10
        }
      ]
    },
    {
      "cell_type": "code",
      "metadata": {
        "id": "znzw1-HXlEW_"
      },
      "source": [
        "negative_rating =[]\n",
        "for i in range(len(negative)):\n",
        "  words = nltk.word_tokenize(negative[i])\n",
        "  negative_rating.append(words)\n",
        "\n",
        "positive_rating =[]\n",
        "for i in range(len(positive)):\n",
        "  words = nltk.word_tokenize(positive[i])\n",
        "  positive_rating.append(words)"
      ],
      "execution_count": 11,
      "outputs": []
    },
    {
      "cell_type": "code",
      "metadata": {
        "id": "qChwVVlPltXH",
        "colab": {
          "base_uri": "https://localhost:8080/"
        },
        "outputId": "5b86db92-b615-4392-9b9b-fd8afb7a0883"
      },
      "source": [
        "positive_rating[0]"
      ],
      "execution_count": 12,
      "outputs": [
        {
          "output_type": "execute_result",
          "data": {
            "text/plain": [
              "['One',\n",
              " 'of',\n",
              " 'the',\n",
              " 'other',\n",
              " 'reviewers',\n",
              " 'has',\n",
              " 'mentioned',\n",
              " 'that',\n",
              " 'after',\n",
              " 'watching',\n",
              " 'just',\n",
              " '1',\n",
              " 'Oz',\n",
              " 'episode',\n",
              " 'you',\n",
              " \"'ll\",\n",
              " 'be',\n",
              " 'hooked',\n",
              " '.',\n",
              " 'They',\n",
              " 'are',\n",
              " 'right',\n",
              " ',',\n",
              " 'as',\n",
              " 'this',\n",
              " 'is',\n",
              " 'exactly',\n",
              " 'what',\n",
              " 'happened',\n",
              " 'with',\n",
              " 'me.',\n",
              " '<',\n",
              " 'br',\n",
              " '/',\n",
              " '>',\n",
              " '<',\n",
              " 'br',\n",
              " '/',\n",
              " '>',\n",
              " 'The',\n",
              " 'first',\n",
              " 'thing',\n",
              " 'that',\n",
              " 'struck',\n",
              " 'me',\n",
              " 'about',\n",
              " 'Oz',\n",
              " 'was',\n",
              " 'its',\n",
              " 'brutality',\n",
              " 'and',\n",
              " 'unflinching',\n",
              " 'scenes',\n",
              " 'of',\n",
              " 'violence',\n",
              " ',',\n",
              " 'which',\n",
              " 'set',\n",
              " 'in',\n",
              " 'right',\n",
              " 'from',\n",
              " 'the',\n",
              " 'word',\n",
              " 'GO',\n",
              " '.',\n",
              " 'Trust',\n",
              " 'me',\n",
              " ',',\n",
              " 'this',\n",
              " 'is',\n",
              " 'not',\n",
              " 'a',\n",
              " 'show',\n",
              " 'for',\n",
              " 'the',\n",
              " 'faint',\n",
              " 'hearted',\n",
              " 'or',\n",
              " 'timid',\n",
              " '.',\n",
              " 'This',\n",
              " 'show',\n",
              " 'pulls',\n",
              " 'no',\n",
              " 'punches',\n",
              " 'with',\n",
              " 'regards',\n",
              " 'to',\n",
              " 'drugs',\n",
              " ',',\n",
              " 'sex',\n",
              " 'or',\n",
              " 'violence',\n",
              " '.',\n",
              " 'Its',\n",
              " 'is',\n",
              " 'hardcore',\n",
              " ',',\n",
              " 'in',\n",
              " 'the',\n",
              " 'classic',\n",
              " 'use',\n",
              " 'of',\n",
              " 'the',\n",
              " 'word.',\n",
              " '<',\n",
              " 'br',\n",
              " '/',\n",
              " '>',\n",
              " '<',\n",
              " 'br',\n",
              " '/',\n",
              " '>',\n",
              " 'It',\n",
              " 'is',\n",
              " 'called',\n",
              " 'OZ',\n",
              " 'as',\n",
              " 'that',\n",
              " 'is',\n",
              " 'the',\n",
              " 'nickname',\n",
              " 'given',\n",
              " 'to',\n",
              " 'the',\n",
              " 'Oswald',\n",
              " 'Maximum',\n",
              " 'Security',\n",
              " 'State',\n",
              " 'Penitentary',\n",
              " '.',\n",
              " 'It',\n",
              " 'focuses',\n",
              " 'mainly',\n",
              " 'on',\n",
              " 'Emerald',\n",
              " 'City',\n",
              " ',',\n",
              " 'an',\n",
              " 'experimental',\n",
              " 'section',\n",
              " 'of',\n",
              " 'the',\n",
              " 'prison',\n",
              " 'where',\n",
              " 'all',\n",
              " 'the',\n",
              " 'cells',\n",
              " 'have',\n",
              " 'glass',\n",
              " 'fronts',\n",
              " 'and',\n",
              " 'face',\n",
              " 'inwards',\n",
              " ',',\n",
              " 'so',\n",
              " 'privacy',\n",
              " 'is',\n",
              " 'not',\n",
              " 'high',\n",
              " 'on',\n",
              " 'the',\n",
              " 'agenda',\n",
              " '.',\n",
              " 'Em',\n",
              " 'City',\n",
              " 'is',\n",
              " 'home',\n",
              " 'to',\n",
              " 'many..Aryans',\n",
              " ',',\n",
              " 'Muslims',\n",
              " ',',\n",
              " 'gangstas',\n",
              " ',',\n",
              " 'Latinos',\n",
              " ',',\n",
              " 'Christians',\n",
              " ',',\n",
              " 'Italians',\n",
              " ',',\n",
              " 'Irish',\n",
              " 'and',\n",
              " 'more',\n",
              " '...',\n",
              " '.so',\n",
              " 'scuffles',\n",
              " ',',\n",
              " 'death',\n",
              " 'stares',\n",
              " ',',\n",
              " 'dodgy',\n",
              " 'dealings',\n",
              " 'and',\n",
              " 'shady',\n",
              " 'agreements',\n",
              " 'are',\n",
              " 'never',\n",
              " 'far',\n",
              " 'away.',\n",
              " '<',\n",
              " 'br',\n",
              " '/',\n",
              " '>',\n",
              " '<',\n",
              " 'br',\n",
              " '/',\n",
              " '>',\n",
              " 'I',\n",
              " 'would',\n",
              " 'say',\n",
              " 'the',\n",
              " 'main',\n",
              " 'appeal',\n",
              " 'of',\n",
              " 'the',\n",
              " 'show',\n",
              " 'is',\n",
              " 'due',\n",
              " 'to',\n",
              " 'the',\n",
              " 'fact',\n",
              " 'that',\n",
              " 'it',\n",
              " 'goes',\n",
              " 'where',\n",
              " 'other',\n",
              " 'shows',\n",
              " 'would',\n",
              " \"n't\",\n",
              " 'dare',\n",
              " '.',\n",
              " 'Forget',\n",
              " 'pretty',\n",
              " 'pictures',\n",
              " 'painted',\n",
              " 'for',\n",
              " 'mainstream',\n",
              " 'audiences',\n",
              " ',',\n",
              " 'forget',\n",
              " 'charm',\n",
              " ',',\n",
              " 'forget',\n",
              " 'romance',\n",
              " '...',\n",
              " 'OZ',\n",
              " 'does',\n",
              " \"n't\",\n",
              " 'mess',\n",
              " 'around',\n",
              " '.',\n",
              " 'The',\n",
              " 'first',\n",
              " 'episode',\n",
              " 'I',\n",
              " 'ever',\n",
              " 'saw',\n",
              " 'struck',\n",
              " 'me',\n",
              " 'as',\n",
              " 'so',\n",
              " 'nasty',\n",
              " 'it',\n",
              " 'was',\n",
              " 'surreal',\n",
              " ',',\n",
              " 'I',\n",
              " 'could',\n",
              " \"n't\",\n",
              " 'say',\n",
              " 'I',\n",
              " 'was',\n",
              " 'ready',\n",
              " 'for',\n",
              " 'it',\n",
              " ',',\n",
              " 'but',\n",
              " 'as',\n",
              " 'I',\n",
              " 'watched',\n",
              " 'more',\n",
              " ',',\n",
              " 'I',\n",
              " 'developed',\n",
              " 'a',\n",
              " 'taste',\n",
              " 'for',\n",
              " 'Oz',\n",
              " ',',\n",
              " 'and',\n",
              " 'got',\n",
              " 'accustomed',\n",
              " 'to',\n",
              " 'the',\n",
              " 'high',\n",
              " 'levels',\n",
              " 'of',\n",
              " 'graphic',\n",
              " 'violence',\n",
              " '.',\n",
              " 'Not',\n",
              " 'just',\n",
              " 'violence',\n",
              " ',',\n",
              " 'but',\n",
              " 'injustice',\n",
              " '(',\n",
              " 'crooked',\n",
              " 'guards',\n",
              " 'who',\n",
              " \"'ll\",\n",
              " 'be',\n",
              " 'sold',\n",
              " 'out',\n",
              " 'for',\n",
              " 'a',\n",
              " 'nickel',\n",
              " ',',\n",
              " 'inmates',\n",
              " 'who',\n",
              " \"'ll\",\n",
              " 'kill',\n",
              " 'on',\n",
              " 'order',\n",
              " 'and',\n",
              " 'get',\n",
              " 'away',\n",
              " 'with',\n",
              " 'it',\n",
              " ',',\n",
              " 'well',\n",
              " 'mannered',\n",
              " ',',\n",
              " 'middle',\n",
              " 'class',\n",
              " 'inmates',\n",
              " 'being',\n",
              " 'turned',\n",
              " 'into',\n",
              " 'prison',\n",
              " 'bitches',\n",
              " 'due',\n",
              " 'to',\n",
              " 'their',\n",
              " 'lack',\n",
              " 'of',\n",
              " 'street',\n",
              " 'skills',\n",
              " 'or',\n",
              " 'prison',\n",
              " 'experience',\n",
              " ')',\n",
              " 'Watching',\n",
              " 'Oz',\n",
              " ',',\n",
              " 'you',\n",
              " 'may',\n",
              " 'become',\n",
              " 'comfortable',\n",
              " 'with',\n",
              " 'what',\n",
              " 'is',\n",
              " 'uncomfortable',\n",
              " 'viewing',\n",
              " '...',\n",
              " '.thats',\n",
              " 'if',\n",
              " 'you',\n",
              " 'can',\n",
              " 'get',\n",
              " 'in',\n",
              " 'touch',\n",
              " 'with',\n",
              " 'your',\n",
              " 'darker',\n",
              " 'side',\n",
              " '.']"
            ]
          },
          "metadata": {},
          "execution_count": 12
        }
      ]
    },
    {
      "cell_type": "markdown",
      "metadata": {
        "id": "8aUdlWBwzpgb"
      },
      "source": [
        "Removing Noise"
      ]
    },
    {
      "cell_type": "code",
      "metadata": {
        "colab": {
          "base_uri": "https://localhost:8080/"
        },
        "id": "WdMJ11TIl11B",
        "outputId": "fb123b7f-fc5f-4d19-e904-edc600dea2b8"
      },
      "source": [
        "nltk.download('stopwords')"
      ],
      "execution_count": 13,
      "outputs": [
        {
          "output_type": "stream",
          "name": "stdout",
          "text": [
            "[nltk_data] Downloading package stopwords to /root/nltk_data...\n",
            "[nltk_data]   Unzipping corpora/stopwords.zip.\n"
          ]
        },
        {
          "output_type": "execute_result",
          "data": {
            "text/plain": [
              "True"
            ]
          },
          "metadata": {},
          "execution_count": 13
        }
      ]
    },
    {
      "cell_type": "code",
      "metadata": {
        "id": "q65EwjTRl9hU"
      },
      "source": [
        "from nltk.corpus import stopwords\n"
      ],
      "execution_count": 14,
      "outputs": []
    },
    {
      "cell_type": "code",
      "metadata": {
        "id": "qsB4ywEjm3Ra"
      },
      "source": [
        "from nltk.stem import PorterStemmer"
      ],
      "execution_count": 15,
      "outputs": []
    },
    {
      "cell_type": "code",
      "metadata": {
        "id": "8YgNDw7-moBb"
      },
      "source": [
        "import re,string\n",
        "\n",
        "ps = PorterStemmer()\n",
        "def remove_noise(tokens,stop_words):\n",
        "\n",
        "  cleaned_tokens = []\n",
        "  # stop_words = stopwords.words('english')\n",
        "  for token in tokens:\n",
        "    token = re.sub(\"[^a-zA-Z]\",\" \" ,token)\n",
        "    token = token.lower()\n",
        "    token = token.split()\n",
        "    token = [ps.stem(word) for word in token if word not in stop_words]\n",
        "    token = \" \".join(token)\n",
        "    cleaned_tokens.append(token.lower())\n",
        "  return cleaned_tokens"
      ],
      "execution_count": 16,
      "outputs": []
    },
    {
      "cell_type": "code",
      "metadata": {
        "id": "mqXLW1vJqN6K"
      },
      "source": [
        "positive_cleaned_tokens = []\n",
        "negative_cleaned_tokens = []\n",
        "stop_words = stopwords.words('english')\n",
        "for tokens in positive_rating:\n",
        "  positive_cleaned_tokens.append(remove_noise(tokens,stop_words))\n",
        "\n",
        "for tokens in negative_rating:\n",
        "  negative_cleaned_tokens.append(remove_noise(tokens,stop_words))"
      ],
      "execution_count": 17,
      "outputs": []
    },
    {
      "cell_type": "markdown",
      "metadata": {
        "id": "KMHzrX69ztVN"
      },
      "source": [
        "Creating Dictionary "
      ]
    },
    {
      "cell_type": "code",
      "metadata": {
        "id": "0_lgdpiMs5C6"
      },
      "source": [
        "from nltk import classify, NaiveBayesClassifier\n",
        "\n",
        "def get_reviews_for_model(cleaned_tokens):\n",
        "    for review_tokens in cleaned_tokens:\n",
        "        yield dict([token, True] for token in review_tokens)\n",
        "\n",
        "positive_tokens_for_model = get_reviews_for_model(positive_cleaned_tokens)\n",
        "negative_tokens_for_model = get_reviews_for_model(negative_cleaned_tokens)"
      ],
      "execution_count": 18,
      "outputs": []
    },
    {
      "cell_type": "code",
      "metadata": {
        "colab": {
          "base_uri": "https://localhost:8080/"
        },
        "id": "5SZj44dYtYQn",
        "outputId": "b038e57b-1a59-48ed-c79c-a27561ed584b"
      },
      "source": [
        "print(len(positive_cleaned_tokens))\n",
        "print(len(negative_cleaned_tokens))"
      ],
      "execution_count": 19,
      "outputs": [
        {
          "output_type": "stream",
          "name": "stdout",
          "text": [
            "25000\n",
            "25000\n"
          ]
        }
      ]
    },
    {
      "cell_type": "markdown",
      "metadata": {
        "id": "Wl2sQoXnz1A1"
      },
      "source": [
        "Model\n"
      ]
    },
    {
      "cell_type": "code",
      "metadata": {
        "colab": {
          "base_uri": "https://localhost:8080/"
        },
        "id": "65FX4SJDtkSU",
        "outputId": "8fecbb40-c1a2-4c31-8f44-005914dd1c26"
      },
      "source": [
        "import random\n",
        "\n",
        "\n",
        "positive_dataset = [(review_dict, \"Positive\") for review_dict in positive_tokens_for_model]\n",
        "\n",
        "negative_dataset = [(review_dict, \"Negative\") for review_dict in negative_tokens_for_model]\n",
        "\n",
        "dataset = positive_dataset + negative_dataset\n",
        "\n",
        "random.shuffle(dataset)\n",
        "\n",
        "train_data = dataset[:3500]\n",
        "test_data = dataset[3500:]\n",
        "\n",
        "classifier = NaiveBayesClassifier.train(train_data)\n",
        "\n",
        "\n",
        "print(\"Accuracy is:\", classify.accuracy(classifier, test_data))"
      ],
      "execution_count": 20,
      "outputs": [
        {
          "output_type": "stream",
          "name": "stdout",
          "text": [
            "Accuracy is: 0.8262795698924731\n"
          ]
        }
      ]
    },
    {
      "cell_type": "markdown",
      "metadata": {
        "id": "Z6O4Ldjiz206"
      },
      "source": [
        "Custom Input"
      ]
    },
    {
      "cell_type": "code",
      "metadata": {
        "colab": {
          "base_uri": "https://localhost:8080/"
        },
        "id": "hdrIk-JNuCbL",
        "outputId": "f3cf1fe1-faf8-4381-d3c0-eaa9686d0a64"
      },
      "source": [
        "custom_review = 'Great movie'\n",
        "custom_tokens = remove_noise(nltk.word_tokenize(custom_review),stop_words)\n",
        "\n",
        "print(classifier.classify(dict([token, True] for token in custom_tokens)))"
      ],
      "execution_count": 21,
      "outputs": [
        {
          "output_type": "stream",
          "name": "stdout",
          "text": [
            "Positive\n"
          ]
        }
      ]
    },
    {
      "cell_type": "code",
      "metadata": {
        "colab": {
          "base_uri": "https://localhost:8080/"
        },
        "id": "Q8PEcgFKuW7q",
        "outputId": "015ae0ab-08e2-4160-8688-f7abafb57f91"
      },
      "source": [
        "custom_review = 'Worst movie'\n",
        "custom_tokens = remove_noise(nltk.word_tokenize(custom_review),stop_words)\n",
        "\n",
        "print(classifier.classify(dict([token, True] for token in custom_tokens)))"
      ],
      "execution_count": 22,
      "outputs": [
        {
          "output_type": "stream",
          "name": "stdout",
          "text": [
            "Negative\n"
          ]
        }
      ]
    }
  ]
}